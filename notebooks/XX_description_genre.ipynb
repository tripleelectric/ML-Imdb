{
 "cells": [
  {
   "cell_type": "markdown",
   "id": "651c86b6",
   "metadata": {},
   "source": [
    "# Classification with NLP\n",
    "**Task:** Predicting *genres* based on *overview*\n"
   ]
  },
  {
   "cell_type": "code",
   "execution_count": null,
   "id": "83518232",
   "metadata": {},
   "outputs": [],
   "source": [
    "# ------ Imports & data ------\n",
    "import pandas as pd\n",
    "import numpy as np\n",
    "import matplotlib.pyplot as plt\n",
    "from sklearn.feature_extraction.text import TfidfVectorizer\n",
    "from sklearn.multioutput import MultiOutputClassifier\n",
    "from sklearn.linear_model import LogisticRegression\n",
    "from sklearn.metrics import classification_report\n",
    "\n"
   ]
  }
 ],
 "metadata": {
  "language_info": {
   "name": "python"
  }
 },
 "nbformat": 4,
 "nbformat_minor": 5
}
