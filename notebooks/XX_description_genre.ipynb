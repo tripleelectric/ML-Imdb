{
 "cells": [
  {
   "cell_type": "code",
   "execution_count": null,
   "id": "83518232",
   "metadata": {},
   "outputs": [],
   "source": [
    "# ------ Imports & data ------\n",
    "import pandas as pd\n",
    "import numpy as np\n",
    "import matplotlib.pyplot as plt\n",
    "\n"
   ]
  }
 ],
 "metadata": {
  "language_info": {
   "name": "python"
  }
 },
 "nbformat": 4,
 "nbformat_minor": 5
}
