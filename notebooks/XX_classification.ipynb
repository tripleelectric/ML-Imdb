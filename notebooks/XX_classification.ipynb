{
 "cells": [
  {
   "cell_type": "markdown",
   "id": "86edbcbe",
   "metadata": {},
   "source": [
    "# Classification with Logistic Regression\n"
   ]
  },
  {
   "cell_type": "code",
   "execution_count": null,
   "id": "d92c1542",
   "metadata": {},
   "outputs": [],
   "source": [
    "# ------ Imports ------\n",
    "import pandas as pd\n",
    "import numpy as np\n",
    "from sklearn.model_selection import train_test_split"
   ]
  },
  {
   "cell_type": "code",
   "execution_count": null,
   "id": "fa12e515",
   "metadata": {},
   "outputs": [],
   "source": [
    "# ------ Data-preprocessing ------\n",
    "df = pd.read_csv('data/processed/100k_subset.csv')\n",
    "columns = ['budget', 'revenue', 'vote_average']\n",
    "df_clean = df.dropna(subset=columns)\n",
    "df_clean = df_clean[(df_clean['budget'] > 0) & (df_clean['revenue'] > 0)]\n",
    "\n",
    "# The proxy for \"success\" is revenue > 2 * budget\n",
    "df_clean['success'] = np.where(df_clean['revenue'] > 2 * df_clean['budget'], 1, 0)\n",
    "\n",
    "X = df_clean[\"budget\", \"vote_average\"]\n",
    "y = df_clean['success']\n",
    "\n",
    "X_train, X_test, y_train, y_test = train_test_split(X, y, test_size=0.2, random_state=42)"
   ]
  },
  {
   "cell_type": "code",
   "execution_count": null,
   "id": "d452a082",
   "metadata": {},
   "outputs": [],
   "source": [
    "\n",
    "\n"
   ]
  }
 ],
 "metadata": {
  "kernelspec": {
   "display_name": "ml_env",
   "language": "python",
   "name": "python3"
  },
  "language_info": {
   "name": "python",
   "version": "3.10.18"
  }
 },
 "nbformat": 4,
 "nbformat_minor": 5
}
