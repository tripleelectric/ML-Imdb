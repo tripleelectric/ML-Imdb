{
 "cells": [
  {
   "cell_type": "code",
   "execution_count": null,
   "id": "7ecf1311",
   "metadata": {},
   "outputs": [],
   "source": [
    "# ------ Imports & data ------\n",
    "import pandas as pd\n",
    "import numpy as np\n",
    "import matplotlib.pyplot as plt\n",
    "\n",
    "# df = pd.read_csv(\"data/raw/TMDB_movie_dataset_v11.csv\")\n",
    "df = pd.read_csv('data/processed/100k_subset.csv')\n",
    "pd.set_option('display.max_columns', None)\n"
   ]
  },
  {
   "cell_type": "code",
   "execution_count": 5,
   "id": "10f9f821",
   "metadata": {},
   "outputs": [
    {
     "name": "stdout",
     "output_type": "stream",
     "text": [
      "   Unnamed: 0       id                                            title  \\\n",
      "0      831307   538416                            Vous seule que j'aime   \n",
      "1       94983   126031                             A Woman Called Golda   \n",
      "2     1139458  1041711                                       Satellites   \n",
      "3      651881  1450343                            Viviendo Desconectado   \n",
      "4      296437   652634  Venezuela: Wie man einen Staat zugrunde richtet   \n",
      "\n",
      "   vote_average  vote_count    status release_date  revenue  runtime  adult  \\\n",
      "0           0.0           0  Released   1939-06-29        0       95  False   \n",
      "1           8.3           7  Released   1982-04-26        0      240  False   \n",
      "2           0.0           0  Released   2011-01-01        0        7  False   \n",
      "3           0.0           0  Released          NaN        0        0  False   \n",
      "4           8.0           1  Released   2019-11-11        0        0  False   \n",
      "\n",
      "   budget     imdb_id original_language  \\\n",
      "0       0   tt0158349                fr   \n",
      "1       0   tt0084914                en   \n",
      "2       0         NaN                en   \n",
      "3       0         NaN                en   \n",
      "4       0  tt11328728                de   \n",
      "\n",
      "                                    original_title  \\\n",
      "0                            Vous seule que j'aime   \n",
      "1                             A Woman Called Golda   \n",
      "2                                       Satellites   \n",
      "3                            Viviendo Desconectado   \n",
      "4  Venezuela: Wie man einen Staat zugrunde richtet   \n",
      "\n",
      "                                            overview  popularity tagline  \\\n",
      "0  After the death of her trapeze artist father, ...        0.60     NaN   \n",
      "1  The story of the Russian-born, Wisconsin-raise...        3.46     NaN   \n",
      "2  Satellites shows images of a mysterious fainti...        0.60     NaN   \n",
      "3                                                NaN        0.00     NaN   \n",
      "4                                                NaN        0.60     NaN   \n",
      "\n",
      "                     genres  \\\n",
      "0             Comedy, Drama   \n",
      "1  TV Movie, Drama, History   \n",
      "2                       NaN   \n",
      "3                       NaN   \n",
      "4               Documentary   \n",
      "\n",
      "                                production_companies  \\\n",
      "0                                  Films Félix Méric   \n",
      "1  Paramount Television Studios, Operation Prime ...   \n",
      "2                                                NaN   \n",
      "3                                                NaN   \n",
      "4                                                NaN   \n",
      "\n",
      "       production_countries spoken_languages  \\\n",
      "0                    France           French   \n",
      "1  United States of America          English   \n",
      "2                       NaN              NaN   \n",
      "3                       NaN              NaN   \n",
      "4                       NaN           German   \n",
      "\n",
      "                                            keywords  \n",
      "0                                                NaN  \n",
      "1  israel, palestine, 1970s, jew persecution, bio...  \n",
      "2                                                NaN  \n",
      "3                                                NaN  \n",
      "4                                                NaN  \n"
     ]
    }
   ],
   "source": [
    "# ------ Basic Info & Stats------\n",
    "print(df.head())"
   ]
  },
  {
   "cell_type": "code",
   "execution_count": 6,
   "id": "159d31ea",
   "metadata": {},
   "outputs": [
    {
     "name": "stdout",
     "output_type": "stream",
     "text": [
      "Index(['Unnamed: 0', 'id', 'title', 'vote_average', 'vote_count', 'status',\n",
      "       'release_date', 'revenue', 'runtime', 'adult', 'budget', 'imdb_id',\n",
      "       'original_language', 'original_title', 'overview', 'popularity',\n",
      "       'tagline', 'genres', 'production_companies', 'production_countries',\n",
      "       'spoken_languages', 'keywords'],\n",
      "      dtype='object')\n",
      "<class 'pandas.core.frame.DataFrame'>\n",
      "RangeIndex: 100000 entries, 0 to 99999\n",
      "Data columns (total 22 columns):\n",
      " #   Column                Non-Null Count   Dtype  \n",
      "---  ------                --------------   -----  \n",
      " 0   Unnamed: 0            100000 non-null  int64  \n",
      " 1   id                    100000 non-null  int64  \n",
      " 2   title                 99999 non-null   object \n",
      " 3   vote_average          100000 non-null  float64\n",
      " 4   vote_count            100000 non-null  int64  \n",
      " 5   status                100000 non-null  object \n",
      " 6   release_date          80097 non-null   object \n",
      " 7   revenue               100000 non-null  int64  \n",
      " 8   runtime               100000 non-null  int64  \n",
      " 9   adult                 100000 non-null  bool   \n",
      " 10  budget                100000 non-null  int64  \n",
      " 11  imdb_id               49246 non-null   object \n",
      " 12  original_language     100000 non-null  object \n",
      " 13  original_title        99999 non-null   object \n",
      " 14  overview              77912 non-null   object \n",
      " 15  popularity            100000 non-null  float64\n",
      " 16  tagline               13967 non-null   object \n",
      " 17  genres                57473 non-null   object \n",
      " 18  production_companies  43580 non-null   object \n",
      " 19  production_countries  53027 non-null   object \n",
      " 20  spoken_languages      54818 non-null   object \n",
      " 21  keywords              25724 non-null   object \n",
      "dtypes: bool(1), float64(2), int64(6), object(13)\n",
      "memory usage: 16.1+ MB\n"
     ]
    }
   ],
   "source": [
    "print(df.columns)\n",
    "df.info()"
   ]
  },
  {
   "cell_type": "code",
   "execution_count": 29,
   "id": "6ee4b524",
   "metadata": {},
   "outputs": [
    {
     "name": "stdout",
     "output_type": "stream",
     "text": [
      "company              \n",
      "Evil Angel                          (Evil Angel,)\n",
      "BBC                                        (BBC,)\n",
      "Metro-Goldwyn-Mayer        (Metro-Goldwyn-Mayer,)\n",
      "ONF | NFB                            (ONF | NFB,)\n",
      "Toei Company                      (Toei Company,)\n",
      "Universal Pictures          (Universal Pictures,)\n",
      "Columbia Pictures            (Columbia Pictures,)\n",
      "Warner Bros. Pictures    (Warner Bros. Pictures,)\n",
      "Paramount                            (Paramount,)\n",
      "Nikkatsu Corporation      (Nikkatsu Corporation,)\n",
      " ARTE                                    ( ARTE,)\n",
      "Private                                (Private,)\n",
      "New Sensations                  (New Sensations,)\n",
      "Digital Sin                        (Digital Sin,)\n",
      "Naughty America                (Naughty America,)\n",
      "dtype: object\n"
     ]
    },
    {
     "name": "stderr",
     "output_type": "stream",
     "text": [
      "/var/folders/nt/gd8mq25j1cd29qmwnym_mbjc0000gn/T/ipykernel_4759/1189132072.py:27: UserWarning: No artists with labels found to put in legend.  Note that artists whose label start with an underscore are ignored when legend() is called with no argument.\n",
      "  plt.legend()\n"
     ]
    },
    {
     "data": {
      "image/png": "[encoded data removed]",
      "text/plain": [
       "<Figure size 640x480 with 1 Axes>"
      ]
     },
     "metadata": {},
     "output_type": "display_data"
    }
   ],
   "source": [
    "# ------ Histograms ------\n",
    "\n",
    "\n",
    "# companies_flat = np.array([company for company in df[\"production_companies\"]])\n",
    "companies_flat: pd.Series = df['production_companies'].str.split(',').explode().dropna().reset_index(drop=True)\n",
    "company_counts = companies_flat.to_frame(name='company').value_counts().sort_values(ascending=False).head(n=15)\n",
    "print(company_counts.index.to_series())\n",
    "\n",
    "# Basic histogram\n",
    "n, bins, patches = plt.hist(company_counts, bins=len(company_counts), alpha=0.7,\n",
    "                            edgecolor='black', linewidth=0.5)\n",
    "\n",
    "# # Add mean line\n",
    "# mean_val = np.mean(company_counts)\n",
    "# plt.axvline(mean_val, color='red', linestyle='--', linewidth=2,\n",
    "#             label=f'Mean: {mean_val:.1f}')\n",
    "\n",
    "# # Add median line\n",
    "# median_val = np.median(data)\n",
    "# plt.axvline(median_val, color='green', linestyle='--', linewidth=2,\n",
    "#             label=f'Median: {median_val:.1f}')\n",
    "\n",
    "plt.title(\"Top Production Companies\", fontsize=14, fontweight='bold')\n",
    "plt.xlabel('Movies made')\n",
    "plt.ylabel('Company')\n",
    "plt.grid(True, alpha=0.3)\n",
    "plt.legend()\n",
    "plt.tight_layout()\n",
    "plt.show()\n"
   ]
  }
 ],
 "metadata": {
  "kernelspec": {
   "display_name": "ml_env",
   "language": "python",
   "name": "python3"
  },
  "language_info": {
   "codemirror_mode": {
    "name": "ipython",
    "version": 3
   },
   "file_extension": ".py",
   "mimetype": "text/x-python",
   "name": "python",
   "nbconvert_exporter": "python",
   "pygments_lexer": "ipython3",
   "version": "3.10.18"
  }
 },
 "nbformat": 4,
 "nbformat_minor": 5
}
